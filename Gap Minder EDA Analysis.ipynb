{
 "cells": [
  {
   "cell_type": "markdown",
   "metadata": {},
   "source": [
    "# Gapminder EDA and Predictive Analysis \n"
   ]
  },
  {
   "cell_type": "code",
   "execution_count": 1,
   "metadata": {},
   "outputs": [],
   "source": [
    "import pandas as pd\n",
    "import numpy as np\n",
    "import math\n",
    "import matplotlib.pyplot as plt\n",
    "from sklearn.model_selection import train_test_split\n",
    "from sklearn.linear_model import LinearRegression\n",
    "from sklearn.linear_model import LogisticRegression"
   ]
  },
  {
   "cell_type": "code",
   "execution_count": 31,
   "metadata": {},
   "outputs": [],
   "source": [
    "df = pd.read_csv('gapminder_data.txt', sep='\\t')"
   ]
  },
  {
   "cell_type": "code",
   "execution_count": 3,
   "metadata": {},
   "outputs": [
    {
     "data": {
      "text/html": [
       "<div>\n",
       "<style scoped>\n",
       "    .dataframe tbody tr th:only-of-type {\n",
       "        vertical-align: middle;\n",
       "    }\n",
       "\n",
       "    .dataframe tbody tr th {\n",
       "        vertical-align: top;\n",
       "    }\n",
       "\n",
       "    .dataframe thead th {\n",
       "        text-align: right;\n",
       "    }\n",
       "</style>\n",
       "<table border=\"1\" class=\"dataframe\">\n",
       "  <thead>\n",
       "    <tr style=\"text-align: right;\">\n",
       "      <th></th>\n",
       "      <th>country</th>\n",
       "      <th>year</th>\n",
       "      <th>continent</th>\n",
       "      <th>population</th>\n",
       "      <th>life_exp</th>\n",
       "      <th>gdp_per_cap</th>\n",
       "      <th>gini</th>\n",
       "    </tr>\n",
       "  </thead>\n",
       "  <tbody>\n",
       "    <tr>\n",
       "      <th>0</th>\n",
       "      <td>Afghanistan</td>\n",
       "      <td>1800</td>\n",
       "      <td>asia</td>\n",
       "      <td>3280000</td>\n",
       "      <td>28.2</td>\n",
       "      <td>603</td>\n",
       "      <td>30.5</td>\n",
       "    </tr>\n",
       "    <tr>\n",
       "      <th>1</th>\n",
       "      <td>Albania</td>\n",
       "      <td>1800</td>\n",
       "      <td>europe</td>\n",
       "      <td>410000</td>\n",
       "      <td>35.4</td>\n",
       "      <td>667</td>\n",
       "      <td>38.9</td>\n",
       "    </tr>\n",
       "    <tr>\n",
       "      <th>2</th>\n",
       "      <td>Algeria</td>\n",
       "      <td>1800</td>\n",
       "      <td>africa</td>\n",
       "      <td>2500000</td>\n",
       "      <td>28.8</td>\n",
       "      <td>715</td>\n",
       "      <td>56.2</td>\n",
       "    </tr>\n",
       "    <tr>\n",
       "      <th>3</th>\n",
       "      <td>Angola</td>\n",
       "      <td>1800</td>\n",
       "      <td>africa</td>\n",
       "      <td>1570000</td>\n",
       "      <td>27.0</td>\n",
       "      <td>618</td>\n",
       "      <td>57.2</td>\n",
       "    </tr>\n",
       "    <tr>\n",
       "      <th>4</th>\n",
       "      <td>Antigua and Barbuda</td>\n",
       "      <td>1800</td>\n",
       "      <td>americas</td>\n",
       "      <td>37000</td>\n",
       "      <td>33.5</td>\n",
       "      <td>757</td>\n",
       "      <td>40.0</td>\n",
       "    </tr>\n",
       "    <tr>\n",
       "      <th>5</th>\n",
       "      <td>Argentina</td>\n",
       "      <td>1800</td>\n",
       "      <td>americas</td>\n",
       "      <td>534000</td>\n",
       "      <td>33.2</td>\n",
       "      <td>1510</td>\n",
       "      <td>47.7</td>\n",
       "    </tr>\n",
       "    <tr>\n",
       "      <th>6</th>\n",
       "      <td>Armenia</td>\n",
       "      <td>1800</td>\n",
       "      <td>europe</td>\n",
       "      <td>413000</td>\n",
       "      <td>34.0</td>\n",
       "      <td>514</td>\n",
       "      <td>31.5</td>\n",
       "    </tr>\n",
       "    <tr>\n",
       "      <th>7</th>\n",
       "      <td>Australia</td>\n",
       "      <td>1800</td>\n",
       "      <td>asia</td>\n",
       "      <td>351000</td>\n",
       "      <td>34.0</td>\n",
       "      <td>814</td>\n",
       "      <td>38.7</td>\n",
       "    </tr>\n",
       "    <tr>\n",
       "      <th>8</th>\n",
       "      <td>Austria</td>\n",
       "      <td>1800</td>\n",
       "      <td>europe</td>\n",
       "      <td>3210000</td>\n",
       "      <td>34.4</td>\n",
       "      <td>1850</td>\n",
       "      <td>33.4</td>\n",
       "    </tr>\n",
       "    <tr>\n",
       "      <th>9</th>\n",
       "      <td>Azerbaijan</td>\n",
       "      <td>1800</td>\n",
       "      <td>europe</td>\n",
       "      <td>880000</td>\n",
       "      <td>29.2</td>\n",
       "      <td>775</td>\n",
       "      <td>70.5</td>\n",
       "    </tr>\n",
       "  </tbody>\n",
       "</table>\n",
       "</div>"
      ],
      "text/plain": [
       "               country  year continent  population  life_exp  gdp_per_cap  \\\n",
       "0          Afghanistan  1800      asia     3280000      28.2          603   \n",
       "1              Albania  1800    europe      410000      35.4          667   \n",
       "2              Algeria  1800    africa     2500000      28.8          715   \n",
       "3               Angola  1800    africa     1570000      27.0          618   \n",
       "4  Antigua and Barbuda  1800  americas       37000      33.5          757   \n",
       "5            Argentina  1800  americas      534000      33.2         1510   \n",
       "6              Armenia  1800    europe      413000      34.0          514   \n",
       "7            Australia  1800      asia      351000      34.0          814   \n",
       "8              Austria  1800    europe     3210000      34.4         1850   \n",
       "9           Azerbaijan  1800    europe      880000      29.2          775   \n",
       "\n",
       "   gini  \n",
       "0  30.5  \n",
       "1  38.9  \n",
       "2  56.2  \n",
       "3  57.2  \n",
       "4  40.0  \n",
       "5  47.7  \n",
       "6  31.5  \n",
       "7  38.7  \n",
       "8  33.4  \n",
       "9  70.5  "
      ]
     },
     "execution_count": 3,
     "metadata": {},
     "output_type": "execute_result"
    }
   ],
   "source": [
    "df.head(10)"
   ]
  },
  {
   "cell_type": "code",
   "execution_count": 4,
   "metadata": {},
   "outputs": [
    {
     "name": "stdout",
     "output_type": "stream",
     "text": [
      "<class 'pandas.core.frame.DataFrame'>\n",
      "RangeIndex: 40296 entries, 0 to 40295\n",
      "Data columns (total 7 columns):\n",
      " #   Column       Non-Null Count  Dtype  \n",
      "---  ------       --------------  -----  \n",
      " 0   country      40296 non-null  object \n",
      " 1   year         40296 non-null  int64  \n",
      " 2   continent    40296 non-null  object \n",
      " 3   population   40296 non-null  int64  \n",
      " 4   life_exp     40296 non-null  float64\n",
      " 5   gdp_per_cap  40296 non-null  int64  \n",
      " 6   gini         40296 non-null  float64\n",
      "dtypes: float64(2), int64(3), object(2)\n",
      "memory usage: 2.2+ MB\n"
     ]
    }
   ],
   "source": [
    "df.info()"
   ]
  },
  {
   "cell_type": "markdown",
   "metadata": {},
   "source": [
    "View random rows from the dataset"
   ]
  },
  {
   "cell_type": "code",
   "execution_count": 22,
   "metadata": {},
   "outputs": [
    {
     "data": {
      "text/html": [
       "<div>\n",
       "<style scoped>\n",
       "    .dataframe tbody tr th:only-of-type {\n",
       "        vertical-align: middle;\n",
       "    }\n",
       "\n",
       "    .dataframe tbody tr th {\n",
       "        vertical-align: top;\n",
       "    }\n",
       "\n",
       "    .dataframe thead th {\n",
       "        text-align: right;\n",
       "    }\n",
       "</style>\n",
       "<table border=\"1\" class=\"dataframe\">\n",
       "  <thead>\n",
       "    <tr style=\"text-align: right;\">\n",
       "      <th></th>\n",
       "      <th>country</th>\n",
       "      <th>year</th>\n",
       "      <th>continent</th>\n",
       "      <th>population</th>\n",
       "      <th>life_exp</th>\n",
       "      <th>gdp_per_cap</th>\n",
       "      <th>gini</th>\n",
       "    </tr>\n",
       "  </thead>\n",
       "  <tbody>\n",
       "    <tr>\n",
       "      <th>1580</th>\n",
       "      <td>Mongolia</td>\n",
       "      <td>1808</td>\n",
       "      <td>asia</td>\n",
       "      <td>619000</td>\n",
       "      <td>31.8</td>\n",
       "      <td>593</td>\n",
       "      <td>32.0</td>\n",
       "    </tr>\n",
       "    <tr>\n",
       "      <th>20480</th>\n",
       "      <td>Finland</td>\n",
       "      <td>1911</td>\n",
       "      <td>europe</td>\n",
       "      <td>2960000</td>\n",
       "      <td>48.6</td>\n",
       "      <td>3250</td>\n",
       "      <td>36.2</td>\n",
       "    </tr>\n",
       "    <tr>\n",
       "      <th>31793</th>\n",
       "      <td>Slovenia</td>\n",
       "      <td>1972</td>\n",
       "      <td>europe</td>\n",
       "      <td>1690000</td>\n",
       "      <td>68.5</td>\n",
       "      <td>14300</td>\n",
       "      <td>33.1</td>\n",
       "    </tr>\n",
       "    <tr>\n",
       "      <th>45</th>\n",
       "      <td>Denmark</td>\n",
       "      <td>1800</td>\n",
       "      <td>europe</td>\n",
       "      <td>1060000</td>\n",
       "      <td>37.4</td>\n",
       "      <td>2010</td>\n",
       "      <td>37.2</td>\n",
       "    </tr>\n",
       "    <tr>\n",
       "      <th>33207</th>\n",
       "      <td>Kyrgyz Republic</td>\n",
       "      <td>1980</td>\n",
       "      <td>asia</td>\n",
       "      <td>3610000</td>\n",
       "      <td>63.9</td>\n",
       "      <td>3540</td>\n",
       "      <td>31.2</td>\n",
       "    </tr>\n",
       "    <tr>\n",
       "      <th>33111</th>\n",
       "      <td>United States</td>\n",
       "      <td>1979</td>\n",
       "      <td>americas</td>\n",
       "      <td>228000000</td>\n",
       "      <td>73.7</td>\n",
       "      <td>30000</td>\n",
       "      <td>34.6</td>\n",
       "    </tr>\n",
       "    <tr>\n",
       "      <th>21362</th>\n",
       "      <td>Bhutan</td>\n",
       "      <td>1916</td>\n",
       "      <td>asia</td>\n",
       "      <td>148000</td>\n",
       "      <td>33.0</td>\n",
       "      <td>762</td>\n",
       "      <td>40.9</td>\n",
       "    </tr>\n",
       "    <tr>\n",
       "      <th>36288</th>\n",
       "      <td>Cote d Ivoire</td>\n",
       "      <td>1997</td>\n",
       "      <td>africa</td>\n",
       "      <td>15400000</td>\n",
       "      <td>52.8</td>\n",
       "      <td>3050</td>\n",
       "      <td>39.7</td>\n",
       "    </tr>\n",
       "    <tr>\n",
       "      <th>2788</th>\n",
       "      <td>Cameroon</td>\n",
       "      <td>1815</td>\n",
       "      <td>africa</td>\n",
       "      <td>1860000</td>\n",
       "      <td>28.8</td>\n",
       "      <td>627</td>\n",
       "      <td>41.9</td>\n",
       "    </tr>\n",
       "    <tr>\n",
       "      <th>11061</th>\n",
       "      <td>Botswana</td>\n",
       "      <td>1860</td>\n",
       "      <td>africa</td>\n",
       "      <td>121000</td>\n",
       "      <td>33.6</td>\n",
       "      <td>483</td>\n",
       "      <td>47.0</td>\n",
       "    </tr>\n",
       "  </tbody>\n",
       "</table>\n",
       "</div>"
      ],
      "text/plain": [
       "               country  year continent  population  life_exp  gdp_per_cap  \\\n",
       "1580          Mongolia  1808      asia      619000      31.8          593   \n",
       "20480          Finland  1911    europe     2960000      48.6         3250   \n",
       "31793         Slovenia  1972    europe     1690000      68.5        14300   \n",
       "45             Denmark  1800    europe     1060000      37.4         2010   \n",
       "33207  Kyrgyz Republic  1980      asia     3610000      63.9         3540   \n",
       "33111    United States  1979  americas   228000000      73.7        30000   \n",
       "21362           Bhutan  1916      asia      148000      33.0          762   \n",
       "36288    Cote d Ivoire  1997    africa    15400000      52.8         3050   \n",
       "2788          Cameroon  1815    africa     1860000      28.8          627   \n",
       "11061         Botswana  1860    africa      121000      33.6          483   \n",
       "\n",
       "       gini  \n",
       "1580   32.0  \n",
       "20480  36.2  \n",
       "31793  33.1  \n",
       "45     37.2  \n",
       "33207  31.2  \n",
       "33111  34.6  \n",
       "21362  40.9  \n",
       "36288  39.7  \n",
       "2788   41.9  \n",
       "11061  47.0  "
      ]
     },
     "execution_count": 22,
     "metadata": {},
     "output_type": "execute_result"
    }
   ],
   "source": [
    "df.sample(n=10, random_state=1)"
   ]
  },
  {
   "cell_type": "markdown",
   "metadata": {},
   "source": [
    "This data set does not have any missing values "
   ]
  },
  {
   "cell_type": "markdown",
   "metadata": {},
   "source": [
    "### Converting each column of the DataFrame into its own list to get an overview of each country based on row number"
   ]
  },
  {
   "cell_type": "code",
   "execution_count": 5,
   "metadata": {},
   "outputs": [],
   "source": [
    "country = df.country.to_list()\n",
    "continent = df.continent.to_list()\n",
    "year = df.year.to_list()\n",
    "population = df.population.to_list()\n",
    "life_exp = df.life_exp.to_list()\n",
    "pcgdp = df.gdp_per_cap.to_list()\n",
    "gini = df.gini.to_list()"
   ]
  },
  {
   "cell_type": "code",
   "execution_count": 6,
   "metadata": {},
   "outputs": [
    {
     "name": "stdout",
     "output_type": "stream",
     "text": [
      "Country:  Afghanistan\n",
      "Continent:  asia\n",
      "Year:  1800\n",
      "Population:  3280000\n",
      "Life Expectancy:  28.2\n",
      "Per Capita GDP:  603\n",
      "Gini Index:  30.5\n"
     ]
    }
   ],
   "source": [
    "N = 0\n",
    "print('Country: ', country[N])\n",
    "print('Continent: ', continent[N])\n",
    "print('Year: ', year[N])\n",
    "print('Population: ', population[N])\n",
    "print('Life Expectancy: ', life_exp[N])\n",
    "print('Per Capita GDP: ', pcgdp[N])\n",
    "print('Gini Index: ', gini[N])"
   ]
  },
  {
   "cell_type": "markdown",
   "metadata": {},
   "source": [
    "### Displaying Past 20 years of US Data"
   ]
  },
  {
   "cell_type": "code",
   "execution_count": 7,
   "metadata": {},
   "outputs": [
    {
     "name": "stdout",
     "output_type": "stream",
     "text": [
      "Year \tCountry \tPopulation \tLExp \tpcGDP \tGini\n",
      "1999 \tUnited States \t279000000 \t76.8 \t44700 \t40.5\n",
      "2000 \tUnited States \t282000000 \t76.9 \t46000 \t40.5\n",
      "2001 \tUnited States \t285000000 \t77.0 \t46000 \t40.5\n",
      "2002 \tUnited States \t288000000 \t77.1 \t46400 \t40.5\n",
      "2003 \tUnited States \t290000000 \t77.3 \t47300 \t40.5\n",
      "2004 \tUnited States \t293000000 \t77.5 \t48600 \t40.6\n",
      "2005 \tUnited States \t295000000 \t77.7 \t49800 \t40.7\n",
      "2006 \tUnited States \t298000000 \t77.9 \t50600 \t40.8\n",
      "2007 \tUnited States \t301000000 \t78.1 \t51000 \t40.8\n",
      "2008 \tUnited States \t303000000 \t78.3 \t50400 \t40.8\n",
      "2009 \tUnited States \t306000000 \t78.6 \t48600 \t40.7\n",
      "2010 \tUnited States \t309000000 \t78.7 \t49400 \t40.7\n",
      "2011 \tUnited States \t311000000 \t78.8 \t49800 \t40.7\n",
      "2012 \tUnited States \t313000000 \t78.9 \t50500 \t40.8\n",
      "2013 \tUnited States \t316000000 \t78.9 \t51000 \t41.0\n",
      "2014 \tUnited States \t318000000 \t78.9 \t51800 \t41.2\n",
      "2015 \tUnited States \t320000000 \t78.8 \t52800 \t41.3\n",
      "2016 \tUnited States \t322000000 \t78.8 \t53300 \t41.4\n",
      "2017 \tUnited States \t324000000 \t79.0 \t54200 \t41.5\n",
      "2018 \tUnited States \t327000000 \t79.1 \t54900 \t41.5\n"
     ]
    }
   ],
   "source": [
    "minimumYear = 1999\n",
    "numOfYears = 20\n",
    "counter = 0\n",
    "\n",
    "print(\"Year\", \"\\tCountry\", \"\\tPopulation\", \"\\tLExp\", \"\\tpcGDP\", \"\\tGini\")\n",
    "\n",
    "for i in range(0, len(df)):\n",
    "    if (year[i] >= minimumYear and country[i] == 'United States'):\n",
    "        print(\"{0} \\t{1} \\t{2} \\t{3} \\t{4} \\t{5}\".format(year[i], country[i], population[i], life_exp[i], pcgdp[i], gini[i]))\n",
    "        counter = counter + 1\n",
    "    if(counter == numOfYears):\n",
    "        break"
   ]
  },
  {
   "cell_type": "markdown",
   "metadata": {},
   "source": [
    "### Selecting 2018 Data for Analysis"
   ]
  },
  {
   "cell_type": "code",
   "execution_count": 8,
   "metadata": {},
   "outputs": [
    {
     "name": "stdout",
     "output_type": "stream",
     "text": [
      "The global population in 2018 was 7595200200\n"
     ]
    }
   ],
   "source": [
    "# Create six empty lists named: country_2018, population_2018, continent_2018, life_exp_2018, pcgdp_2018, and gini_2018.\n",
    "\n",
    "country_2018 = []\n",
    "population_2018 = []\n",
    "continent_2018 = []\n",
    "life_exp_2018 = []\n",
    "pcgdp_2018 = []\n",
    "gini_2018 = []\n",
    "\n",
    "# Populate the new lists by looping over the original lists. At each iteration of the loop, check to \n",
    "# see if the associated record is from 2018. It is is, store each piece of the record in one of the \n",
    "# six new lists, as appopriate.\n",
    "\n",
    "for i in range(0, len(df)):\n",
    "    if(year[i] == 2018):\n",
    "        country_2018.append(country[i])\n",
    "        population_2018.append(population[i])\n",
    "        continent_2018.append(continent[i])\n",
    "        life_exp_2018.append(life_exp[i])\n",
    "        pcgdp_2018.append(pcgdp[i])\n",
    "        gini_2018.append(gini[i])\n",
    "# Use the sum() function to calculate the total population of the world in 2018, \n",
    "# storing the result in a variable global_population_2018. \n",
    "# Print this result in the following format:\n",
    "\n",
    "global_population_2018 = sum(population_2018)\n",
    "print(\"The global population in 2018 was {0}\".format(global_population_2018))"
   ]
  },
  {
   "cell_type": "markdown",
   "metadata": {},
   "source": [
    "### Identifying Countries with Largest and Smallest Populations"
   ]
  },
  {
   "cell_type": "code",
   "execution_count": 9,
   "metadata": {},
   "outputs": [
    {
     "name": "stdout",
     "output_type": "stream",
     "text": [
      "Countries with Largest Populations in 2018\n",
      "------------------------------------------\n",
      "The population of Mexico in 2018 was 131000000.\n",
      "The population of Russia in 2018 was 144000000.\n",
      "The population of Bangladesh in 2018 was 166000000.\n",
      "The population of Nigeria in 2018 was 196000000.\n",
      "The population of Pakistan in 2018 was 201000000.\n",
      "The population of Brazil in 2018 was 211000000.\n",
      "The population of Indonesia in 2018 was 267000000.\n",
      "The population of United States in 2018 was 327000000.\n",
      "The population of India in 2018 was 1350000000.\n",
      "The population of China in 2018 was 1420000000.\n",
      "  \n",
      "Countries with Smallest Populations in 2018\n",
      "------------------------------------------\n",
      "The population of Seychelles in 2018 was 95200.\n",
      "The population of Antigua and Barbuda in 2018 was 103000.\n",
      "The population of Micronesia, Fed. Sts. in 2018 was 106000.\n",
      "The population of Grenada in 2018 was 108000.\n",
      "The population of Tonga in 2018 was 109000.\n",
      "The population of St. Vincent and the Grenadines in 2018 was 110000.\n",
      "The population of Kiribati in 2018 was 118000.\n",
      "The population of St. Lucia in 2018 was 180000.\n",
      "The population of Samoa in 2018 was 198000.\n",
      "The population of Sao Tome and Principe in 2018 was 209000.\n"
     ]
    }
   ],
   "source": [
    "\n",
    "population_2018_sorted = sorted(population_2018)\n",
    "\n",
    "\n",
    "\n",
    "tenth_largest_population = population_2018_sorted[174]\n",
    "df[(df.population == tenth_largest_population) & (df.year == 2018)].iloc[0,0]\n",
    "\n",
    "\n",
    "\n",
    "\n",
    "print(\"Countries with Largest Populations in 2018\")\n",
    "print(\"------------------------------------------\")\n",
    "\n",
    "for i in range(174, len(population_2018_sorted)):\n",
    "    print(\"The population of {0} in 2018 was {1}.\"\n",
    "          .format(df[(df.population == population_2018_sorted[i]) & (df.year == 2018)].iloc[0,0], population_2018_sorted[i]))\n",
    "print('  ')\n",
    "\n",
    "\n",
    "\n",
    "tenth_smallest_population = population_2018_sorted[9]\n",
    "df[(df.population == tenth_smallest_population) & (df.year == 2018)].iloc[0,0]\n",
    "\n",
    "\n",
    "\n",
    "\n",
    "print(\"Countries with Smallest Populations in 2018\")\n",
    "print(\"------------------------------------------\")\n",
    "\n",
    "for i in range(0, 10):\n",
    "    print(\"The population of {0} in 2018 was {1}.\"\n",
    "          .format(df[(df.population == population_2018_sorted[i]) & (df.year == 2018)].iloc[0,0], population_2018_sorted[i]))"
   ]
  },
  {
   "cell_type": "markdown",
   "metadata": {},
   "source": [
    "### Identifying Countries with Highest and Lowest Life Expectancies"
   ]
  },
  {
   "cell_type": "code",
   "execution_count": 10,
   "metadata": {},
   "outputs": [
    {
     "name": "stdout",
     "output_type": "stream",
     "text": [
      "Countries with Highest Life Expectancy in 2018\n",
      "------------------------------------------\n",
      "The life expectancy of Israel in 2018 was 82.4.\n",
      "The life expectancy of France in 2018 was 82.6.\n",
      "The life expectancy of Australia in 2018 was 82.9.\n",
      "The life expectancy of Spain in 2018 was 83.2.\n",
      "The life expectancy of Switzerland in 2018 was 83.5.\n",
      "The life expectancy of Singapore in 2018 was 84.0.\n",
      "The life expectancy of Japan in 2018 was 84.2.\n",
      " \n",
      " \n",
      "  \n",
      "Countries with Lowest Life Expectancy in 2018\n",
      "------------------------------------------\n",
      "The life expectancy of Lesotho in 2018 was 51.1.\n",
      "The life expectancy of Central African Republic in 2018 was 51.6.\n",
      "The life expectancy of Somalia in 2018 was 58.0.\n",
      "The life expectancy of Swaziland in 2018 was 58.6.\n",
      "The life expectancy of Afghanistan in 2018 was 58.7.\n",
      "The life expectancy of Zambia in 2018 was 59.5.\n",
      "The life expectancy of Guinea-Bissau in 2018 was 59.7.\n",
      "The life expectancy of Sierra Leone in 2018 was 60.0.\n",
      "The life expectancy of Zimbabwe in 2018 was 60.2.\n",
      "The life expectancy of Chad in 2018 was 60.5.\n"
     ]
    }
   ],
   "source": [
    "life_exp_2018_sorted = sorted(life_exp_2018)\n",
    "\n",
    "\n",
    "top_ten = []\n",
    "\n",
    "print(\"Countries with Highest Life Expectancy in 2018\")\n",
    "print(\"------------------------------------------\")\n",
    "\n",
    "for i in range(174, len(life_exp_2018_sorted)):\n",
    "    sentence = \"The life expectancy of {0} in 2018 was {1}.\".format(df[(df.life_exp == life_exp_2018_sorted[i]) & (df.year == 2018)].iloc[0,0], life_exp_2018_sorted[i])\n",
    "\n",
    "    if(not sentence in top_ten):\n",
    "        top_ten.append(sentence)\n",
    "\n",
    "\n",
    "# Print version 1\n",
    "print(*top_ten, sep = \"\\n\") \n",
    "print(' ')\n",
    "\n",
    "\n",
    "\n",
    "print(' ')\n",
    "\n",
    "print('  ')\n",
    "\n",
    "print(\"Countries with Lowest Life Expectancy in 2018\")\n",
    "print(\"------------------------------------------\")\n",
    "\n",
    "for i in range(0, 10):\n",
    "    print(\"The life expectancy of {0} in 2018 was {1}.\"\n",
    "          .format(df[(df.life_exp == life_exp_2018_sorted[i]) & (df.year == 2018)].iloc[0,0], life_exp_2018_sorted[i]))"
   ]
  },
  {
   "cell_type": "markdown",
   "metadata": {},
   "source": [
    "### Retriving The Countries With The Highest and lowest GDP"
   ]
  },
  {
   "cell_type": "code",
   "execution_count": 11,
   "metadata": {},
   "outputs": [
    {
     "name": "stdout",
     "output_type": "stream",
     "text": [
      "The total global GDP in 2018 was $3297010.\n",
      " \n",
      " \n",
      "The country with the lowest GDP in 2018 was Somalia with a GDP of 629.\n",
      " \n",
      "The country with the highest GDP in 2018 was Qatar with a GDP of 121000.\n"
     ]
    }
   ],
   "source": [
    "gdp_2018 = []\n",
    "\n",
    "gdp_2018 = sum(pcgdp_2018)\n",
    "print(\"The total global GDP in 2018 was ${0}.\".format(gdp_2018))\n",
    "print(' ')\n",
    "\n",
    "lowest_gdp = pcgdp_2018.index(min(pcgdp_2018))\n",
    "country_with_lowest_index = country_2018[lowest_gdp]\n",
    "country_with_lowest_index\n",
    "print(' ')\n",
    "print(\"The country with the lowest GDP in 2018 was {0} with a GDP of {1}.\".format(country_with_lowest_index, min(pcgdp_2018)))\n",
    "print(' ')\n",
    "highest_gdp = pcgdp_2018.index(max(pcgdp_2018))\n",
    "country_with_highest_index = country_2018[highest_gdp]\n",
    "country_with_highest_index\n",
    "\n",
    "print(\"The country with the highest GDP in 2018 was {0} with a GDP of {1}.\".format(country_with_highest_index, max(pcgdp_2018)))\n"
   ]
  },
  {
   "cell_type": "markdown",
   "metadata": {},
   "source": [
    "### Relationship between Life Expectancy and GDP Per Capital"
   ]
  },
  {
   "cell_type": "code",
   "execution_count": 12,
   "metadata": {},
   "outputs": [],
   "source": [
    "country = df.country.values\n",
    "year = df.year.values\n",
    "continent = df.continent.values\n",
    "population = df.population.values\n",
    "life_exp = df.life_exp.values\n",
    "pcgdp = df.gdp_per_cap.values\n",
    "gini = df.gini.values\n",
    "df = None\n",
    "\n"
   ]
  },
  {
   "cell_type": "code",
   "execution_count": 13,
   "metadata": {},
   "outputs": [
    {
     "data": {
      "image/png": "[encoded data removed]",
      "text/plain": [
       "<Figure size 576x432 with 1 Axes>"
      ]
     },
     "metadata": {
      "needs_background": "light"
     },
     "output_type": "display_data"
    }
   ],
   "source": [
    "continent_list = ['africa', 'americas', 'asia', 'europe']\n",
    "color_list = ['maroon', 'olive', 'darkgoldenrod','indigo']\n",
    "\n",
    "plt.figure(figsize=[8,6])\n",
    "\n",
    "for j in range(0, len(continent_list)):\n",
    "    sel = []\n",
    "    [sel.append(i) for i in range(0, len(continent)) if continent[i] == continent_list[j] and year[i] == 2018]\n",
    "    \n",
    "    temp_pcgdp = [np.log(pcgdp)[i] for i in sel]\n",
    "    temp_life_exp = [life_exp[i] for i in sel]\n",
    "    \n",
    "    plt.scatter(x=temp_pcgdp, y=temp_life_exp, s=100, alpha=0.7,\n",
    "                color=color_list[j], edgecolor='black', label=continent_list[j].title())\n",
    "\n",
    "plt.xlabel('Natural Log of Per Capita GDP')\n",
    "plt.ylabel('Life Expectancy')\n",
    "plt.title('Life Expectancy vs Per Capita GDP (2018)')\n",
    "plt.legend()\n",
    "plt.show()"
   ]
  },
  {
   "cell_type": "markdown",
   "metadata": {},
   "source": [
    "### Trends Analysis of selected countries\n",
    "This section visualizes the population and life expectancy trends of China, Nigeria, Japan, Indian and Brazil over time"
   ]
  },
  {
   "cell_type": "code",
   "execution_count": 14,
   "metadata": {},
   "outputs": [],
   "source": [
    "year_range = list(range(1800, 2019))\n",
    "China = population[country == 'China']\n",
    "Nigeria = population[country == 'Nigeria']\n",
    "Japan = population[country == 'Japan']\n",
    "India = population[country == 'India']\n",
    "Brazil = population[country == 'Brazil']"
   ]
  },
  {
   "cell_type": "code",
   "execution_count": 15,
   "metadata": {},
   "outputs": [
    {
     "data": {
      "image/png": "[encoded data removed]",
      "text/plain": [
       "<Figure size 576x288 with 1 Axes>"
      ]
     },
     "metadata": {
      "needs_background": "light"
     },
     "output_type": "display_data"
    }
   ],
   "source": [
    "plt.figure(figsize=[8,4])\n",
    "\n",
    "plt.plot(year_range, China, lw=2, label='China')\n",
    "plt.plot(year_range, Nigeria, lw=2, label='Nigeria')\n",
    "plt.plot(year_range, Japan, lw=2, label='Japan')\n",
    "plt.plot(year_range, India, lw=2, label='India')\n",
    "plt.plot(year_range, Brazil, lw=2, label='Brazil')\n",
    "\n",
    "\n",
    "plt.legend()\n",
    "plt.xlabel('Year')\n",
    "plt.ylabel('Population')\n",
    "plt.title('Population by Year')\n",
    "plt.show()"
   ]
  },
  {
   "cell_type": "code",
   "execution_count": 16,
   "metadata": {},
   "outputs": [],
   "source": [
    "# change in life expectancy over time\n",
    "year_range = list(range(1800, 2019))\n",
    "China = life_exp[country == 'China']\n",
    "Nigeria = life_exp[country == 'Nigeria']\n",
    "Japan = life_exp[country == 'Japan']\n",
    "India = life_exp[country == 'India']\n",
    "Brazil = life_exp[country == 'Brazil']"
   ]
  },
  {
   "cell_type": "code",
   "execution_count": 19,
   "metadata": {},
   "outputs": [
    {
     "data": {
      "image/png": "[encoded data removed]",
      "text/plain": [
       "<Figure size 576x288 with 1 Axes>"
      ]
     },
     "metadata": {
      "needs_background": "light"
     },
     "output_type": "display_data"
    }
   ],
   "source": [
    "plt.figure(figsize=[8,4])\n",
    "\n",
    "plt.plot(year_range, China, lw=2, label='China')\n",
    "plt.plot(year_range, Nigeria, lw=2, label='Nigeria')\n",
    "plt.plot(year_range, Japan, lw=2, label='Japan')\n",
    "plt.plot(year_range, India, lw=2, label='India')\n",
    "plt.plot(year_range, Brazil, lw=2, label='Brazil')\n",
    "\n",
    "\n",
    "plt.legend()\n",
    "plt.xlabel('Year')\n",
    "plt.ylabel('Life Expectancy')\n",
    "plt.title('Life Expectancy by Year')\n",
    "plt.show()"
   ]
  },
  {
   "cell_type": "markdown",
   "metadata": {},
   "source": [
    "### Adding two new columns total_gdp, and total_life_exp.\n",
    "Entries in the column total_gdp will record the total GDP of a specific country in a given year, and will be calculated by multiplying population and gdp_per_cap. Similarly, entries in total_life_exp will be calculated by multiplying population by life_exp. This column can be viewed as an estimate of the total number of years that people living in the country at that time would be collectively expected to live. "
   ]
  },
  {
   "cell_type": "code",
   "execution_count": 23,
   "metadata": {},
   "outputs": [
    {
     "data": {
      "text/html": [
       "<div>\n",
       "<style scoped>\n",
       "    .dataframe tbody tr th:only-of-type {\n",
       "        vertical-align: middle;\n",
       "    }\n",
       "\n",
       "    .dataframe tbody tr th {\n",
       "        vertical-align: top;\n",
       "    }\n",
       "\n",
       "    .dataframe thead th {\n",
       "        text-align: right;\n",
       "    }\n",
       "</style>\n",
       "<table border=\"1\" class=\"dataframe\">\n",
       "  <thead>\n",
       "    <tr style=\"text-align: right;\">\n",
       "      <th></th>\n",
       "      <th>country</th>\n",
       "      <th>year</th>\n",
       "      <th>continent</th>\n",
       "      <th>population</th>\n",
       "      <th>life_exp</th>\n",
       "      <th>gdp_per_cap</th>\n",
       "      <th>gini</th>\n",
       "      <th>total_gdp</th>\n",
       "      <th>total_life_exp</th>\n",
       "    </tr>\n",
       "  </thead>\n",
       "  <tbody>\n",
       "    <tr>\n",
       "      <th>0</th>\n",
       "      <td>Afghanistan</td>\n",
       "      <td>1800</td>\n",
       "      <td>asia</td>\n",
       "      <td>3280000</td>\n",
       "      <td>28.2</td>\n",
       "      <td>603</td>\n",
       "      <td>30.5</td>\n",
       "      <td>1977840000</td>\n",
       "      <td>92496000.0</td>\n",
       "    </tr>\n",
       "    <tr>\n",
       "      <th>1</th>\n",
       "      <td>Albania</td>\n",
       "      <td>1800</td>\n",
       "      <td>europe</td>\n",
       "      <td>410000</td>\n",
       "      <td>35.4</td>\n",
       "      <td>667</td>\n",
       "      <td>38.9</td>\n",
       "      <td>273470000</td>\n",
       "      <td>14514000.0</td>\n",
       "    </tr>\n",
       "    <tr>\n",
       "      <th>2</th>\n",
       "      <td>Algeria</td>\n",
       "      <td>1800</td>\n",
       "      <td>africa</td>\n",
       "      <td>2500000</td>\n",
       "      <td>28.8</td>\n",
       "      <td>715</td>\n",
       "      <td>56.2</td>\n",
       "      <td>1787500000</td>\n",
       "      <td>72000000.0</td>\n",
       "    </tr>\n",
       "    <tr>\n",
       "      <th>3</th>\n",
       "      <td>Angola</td>\n",
       "      <td>1800</td>\n",
       "      <td>africa</td>\n",
       "      <td>1570000</td>\n",
       "      <td>27.0</td>\n",
       "      <td>618</td>\n",
       "      <td>57.2</td>\n",
       "      <td>970260000</td>\n",
       "      <td>42390000.0</td>\n",
       "    </tr>\n",
       "    <tr>\n",
       "      <th>4</th>\n",
       "      <td>Antigua and Barbuda</td>\n",
       "      <td>1800</td>\n",
       "      <td>americas</td>\n",
       "      <td>37000</td>\n",
       "      <td>33.5</td>\n",
       "      <td>757</td>\n",
       "      <td>40.0</td>\n",
       "      <td>28009000</td>\n",
       "      <td>1239500.0</td>\n",
       "    </tr>\n",
       "  </tbody>\n",
       "</table>\n",
       "</div>"
      ],
      "text/plain": [
       "               country  year continent  population  life_exp  gdp_per_cap  \\\n",
       "0          Afghanistan  1800      asia     3280000      28.2          603   \n",
       "1              Albania  1800    europe      410000      35.4          667   \n",
       "2              Algeria  1800    africa     2500000      28.8          715   \n",
       "3               Angola  1800    africa     1570000      27.0          618   \n",
       "4  Antigua and Barbuda  1800  americas       37000      33.5          757   \n",
       "\n",
       "   gini   total_gdp  total_life_exp  \n",
       "0  30.5  1977840000      92496000.0  \n",
       "1  38.9   273470000      14514000.0  \n",
       "2  56.2  1787500000      72000000.0  \n",
       "3  57.2   970260000      42390000.0  \n",
       "4  40.0    28009000       1239500.0  "
      ]
     },
     "execution_count": 23,
     "metadata": {},
     "output_type": "execute_result"
    }
   ],
   "source": [
    "df.loc[:,'total_gdp'] = df.loc[:,'population'] * df.loc[:,'gdp_per_cap']\n",
    "df.loc[:,'total_life_exp'] = df.loc[:,'population'] * df.loc[:,'life_exp']\n",
    "df.head()"
   ]
  },
  {
   "cell_type": "markdown",
   "metadata": {},
   "source": [
    "#### Sorting by Gini index to find the 10 countries with the least amount of income inequality in 2018."
   ]
  },
  {
   "cell_type": "code",
   "execution_count": 27,
   "metadata": {},
   "outputs": [
    {
     "data": {
      "text/html": [
       "<div>\n",
       "<style scoped>\n",
       "    .dataframe tbody tr th:only-of-type {\n",
       "        vertical-align: middle;\n",
       "    }\n",
       "\n",
       "    .dataframe tbody tr th {\n",
       "        vertical-align: top;\n",
       "    }\n",
       "\n",
       "    .dataframe thead th {\n",
       "        text-align: right;\n",
       "    }\n",
       "</style>\n",
       "<table border=\"1\" class=\"dataframe\">\n",
       "  <thead>\n",
       "    <tr style=\"text-align: right;\">\n",
       "      <th></th>\n",
       "      <th>country</th>\n",
       "      <th>year</th>\n",
       "      <th>continent</th>\n",
       "      <th>population</th>\n",
       "      <th>life_exp</th>\n",
       "      <th>gdp_per_cap</th>\n",
       "      <th>gini</th>\n",
       "      <th>total_gdp</th>\n",
       "      <th>total_life_exp</th>\n",
       "    </tr>\n",
       "  </thead>\n",
       "  <tbody>\n",
       "    <tr>\n",
       "      <th>40260</th>\n",
       "      <td>South Africa</td>\n",
       "      <td>2018</td>\n",
       "      <td>africa</td>\n",
       "      <td>57400000</td>\n",
       "      <td>63.5</td>\n",
       "      <td>12300</td>\n",
       "      <td>63.0</td>\n",
       "      <td>706020000000</td>\n",
       "      <td>3.644900e+09</td>\n",
       "    </tr>\n",
       "    <tr>\n",
       "      <th>40268</th>\n",
       "      <td>Suriname</td>\n",
       "      <td>2018</td>\n",
       "      <td>americas</td>\n",
       "      <td>568000</td>\n",
       "      <td>71.6</td>\n",
       "      <td>13200</td>\n",
       "      <td>61.0</td>\n",
       "      <td>7497600000</td>\n",
       "      <td>4.066880e+07</td>\n",
       "    </tr>\n",
       "    <tr>\n",
       "      <th>40133</th>\n",
       "      <td>Botswana</td>\n",
       "      <td>2018</td>\n",
       "      <td>africa</td>\n",
       "      <td>2330000</td>\n",
       "      <td>66.9</td>\n",
       "      <td>16500</td>\n",
       "      <td>60.5</td>\n",
       "      <td>38445000000</td>\n",
       "      <td>1.558770e+08</td>\n",
       "    </tr>\n",
       "    <tr>\n",
       "      <th>40225</th>\n",
       "      <td>Namibia</td>\n",
       "      <td>2018</td>\n",
       "      <td>africa</td>\n",
       "      <td>2590000</td>\n",
       "      <td>65.7</td>\n",
       "      <td>10500</td>\n",
       "      <td>59.1</td>\n",
       "      <td>27195000000</td>\n",
       "      <td>1.701630e+08</td>\n",
       "    </tr>\n",
       "    <tr>\n",
       "      <th>40294</th>\n",
       "      <td>Zambia</td>\n",
       "      <td>2018</td>\n",
       "      <td>africa</td>\n",
       "      <td>17600000</td>\n",
       "      <td>59.5</td>\n",
       "      <td>3860</td>\n",
       "      <td>57.1</td>\n",
       "      <td>67936000000</td>\n",
       "      <td>1.047200e+09</td>\n",
       "    </tr>\n",
       "    <tr>\n",
       "      <th>40143</th>\n",
       "      <td>Central African Republic</td>\n",
       "      <td>2018</td>\n",
       "      <td>africa</td>\n",
       "      <td>4740000</td>\n",
       "      <td>51.6</td>\n",
       "      <td>689</td>\n",
       "      <td>56.2</td>\n",
       "      <td>3265860000</td>\n",
       "      <td>2.445840e+08</td>\n",
       "    </tr>\n",
       "    <tr>\n",
       "      <th>40203</th>\n",
       "      <td>Lesotho</td>\n",
       "      <td>2018</td>\n",
       "      <td>africa</td>\n",
       "      <td>2260000</td>\n",
       "      <td>51.1</td>\n",
       "      <td>2960</td>\n",
       "      <td>54.2</td>\n",
       "      <td>6689600000</td>\n",
       "      <td>1.154860e+08</td>\n",
       "    </tr>\n",
       "    <tr>\n",
       "      <th>40223</th>\n",
       "      <td>Mozambique</td>\n",
       "      <td>2018</td>\n",
       "      <td>africa</td>\n",
       "      <td>30500000</td>\n",
       "      <td>61.1</td>\n",
       "      <td>1200</td>\n",
       "      <td>54.0</td>\n",
       "      <td>36600000000</td>\n",
       "      <td>1.863550e+09</td>\n",
       "    </tr>\n",
       "    <tr>\n",
       "      <th>40128</th>\n",
       "      <td>Belize</td>\n",
       "      <td>2018</td>\n",
       "      <td>americas</td>\n",
       "      <td>382000</td>\n",
       "      <td>72.5</td>\n",
       "      <td>7710</td>\n",
       "      <td>53.3</td>\n",
       "      <td>2945220000</td>\n",
       "      <td>2.769500e+07</td>\n",
       "    </tr>\n",
       "    <tr>\n",
       "      <th>40269</th>\n",
       "      <td>Swaziland</td>\n",
       "      <td>2018</td>\n",
       "      <td>africa</td>\n",
       "      <td>1390000</td>\n",
       "      <td>58.6</td>\n",
       "      <td>7600</td>\n",
       "      <td>51.5</td>\n",
       "      <td>10564000000</td>\n",
       "      <td>8.145400e+07</td>\n",
       "    </tr>\n",
       "  </tbody>\n",
       "</table>\n",
       "</div>"
      ],
      "text/plain": [
       "                        country  year continent  population  life_exp  \\\n",
       "40260              South Africa  2018    africa    57400000      63.5   \n",
       "40268                  Suriname  2018  americas      568000      71.6   \n",
       "40133                  Botswana  2018    africa     2330000      66.9   \n",
       "40225                   Namibia  2018    africa     2590000      65.7   \n",
       "40294                    Zambia  2018    africa    17600000      59.5   \n",
       "40143  Central African Republic  2018    africa     4740000      51.6   \n",
       "40203                   Lesotho  2018    africa     2260000      51.1   \n",
       "40223                Mozambique  2018    africa    30500000      61.1   \n",
       "40128                    Belize  2018  americas      382000      72.5   \n",
       "40269                 Swaziland  2018    africa     1390000      58.6   \n",
       "\n",
       "       gdp_per_cap  gini     total_gdp  total_life_exp  \n",
       "40260        12300  63.0  706020000000    3.644900e+09  \n",
       "40268        13200  61.0    7497600000    4.066880e+07  \n",
       "40133        16500  60.5   38445000000    1.558770e+08  \n",
       "40225        10500  59.1   27195000000    1.701630e+08  \n",
       "40294         3860  57.1   67936000000    1.047200e+09  \n",
       "40143          689  56.2    3265860000    2.445840e+08  \n",
       "40203         2960  54.2    6689600000    1.154860e+08  \n",
       "40223         1200  54.0   36600000000    1.863550e+09  \n",
       "40128         7710  53.3    2945220000    2.769500e+07  \n",
       "40269         7600  51.5   10564000000    8.145400e+07  "
      ]
     },
     "execution_count": 27,
     "metadata": {},
     "output_type": "execute_result"
    }
   ],
   "source": [
    "df_2018 = df.loc[df.year == 2018, :]\n",
    "df_2018.sort_values(by='gini', ascending=False).head(10)"
   ]
  },
  {
   "cell_type": "markdown",
   "metadata": {},
   "source": [
    "#### Sorting the dataset to find the 10 countries with the highest life expectancy in 2018"
   ]
  },
  {
   "cell_type": "code",
   "execution_count": 28,
   "metadata": {},
   "outputs": [
    {
     "data": {
      "text/html": [
       "<div>\n",
       "<style scoped>\n",
       "    .dataframe tbody tr th:only-of-type {\n",
       "        vertical-align: middle;\n",
       "    }\n",
       "\n",
       "    .dataframe tbody tr th {\n",
       "        vertical-align: top;\n",
       "    }\n",
       "\n",
       "    .dataframe thead th {\n",
       "        text-align: right;\n",
       "    }\n",
       "</style>\n",
       "<table border=\"1\" class=\"dataframe\">\n",
       "  <thead>\n",
       "    <tr style=\"text-align: right;\">\n",
       "      <th></th>\n",
       "      <th>country</th>\n",
       "      <th>year</th>\n",
       "      <th>continent</th>\n",
       "      <th>population</th>\n",
       "      <th>life_exp</th>\n",
       "      <th>gdp_per_cap</th>\n",
       "      <th>gini</th>\n",
       "      <th>total_gdp</th>\n",
       "      <th>total_life_exp</th>\n",
       "    </tr>\n",
       "  </thead>\n",
       "  <tbody>\n",
       "    <tr>\n",
       "      <th>40193</th>\n",
       "      <td>Japan</td>\n",
       "      <td>2018</td>\n",
       "      <td>asia</td>\n",
       "      <td>127000000</td>\n",
       "      <td>84.2</td>\n",
       "      <td>39100</td>\n",
       "      <td>32.1</td>\n",
       "      <td>4965700000000</td>\n",
       "      <td>1.069340e+10</td>\n",
       "    </tr>\n",
       "    <tr>\n",
       "      <th>40255</th>\n",
       "      <td>Singapore</td>\n",
       "      <td>2018</td>\n",
       "      <td>asia</td>\n",
       "      <td>5790000</td>\n",
       "      <td>84.0</td>\n",
       "      <td>83900</td>\n",
       "      <td>40.9</td>\n",
       "      <td>485781000000</td>\n",
       "      <td>4.863600e+08</td>\n",
       "    </tr>\n",
       "    <tr>\n",
       "      <th>40271</th>\n",
       "      <td>Switzerland</td>\n",
       "      <td>2018</td>\n",
       "      <td>europe</td>\n",
       "      <td>8540000</td>\n",
       "      <td>83.5</td>\n",
       "      <td>57100</td>\n",
       "      <td>32.3</td>\n",
       "      <td>487634000000</td>\n",
       "      <td>7.130900e+08</td>\n",
       "    </tr>\n",
       "    <tr>\n",
       "      <th>40263</th>\n",
       "      <td>Spain</td>\n",
       "      <td>2018</td>\n",
       "      <td>europe</td>\n",
       "      <td>46400000</td>\n",
       "      <td>83.2</td>\n",
       "      <td>34700</td>\n",
       "      <td>36.2</td>\n",
       "      <td>1610080000000</td>\n",
       "      <td>3.860480e+09</td>\n",
       "    </tr>\n",
       "    <tr>\n",
       "      <th>40119</th>\n",
       "      <td>Australia</td>\n",
       "      <td>2018</td>\n",
       "      <td>asia</td>\n",
       "      <td>24800000</td>\n",
       "      <td>82.9</td>\n",
       "      <td>45800</td>\n",
       "      <td>32.3</td>\n",
       "      <td>1135840000000</td>\n",
       "      <td>2.055920e+09</td>\n",
       "    </tr>\n",
       "    <tr>\n",
       "      <th>40191</th>\n",
       "      <td>Italy</td>\n",
       "      <td>2018</td>\n",
       "      <td>europe</td>\n",
       "      <td>59300000</td>\n",
       "      <td>82.6</td>\n",
       "      <td>35200</td>\n",
       "      <td>35.4</td>\n",
       "      <td>2087360000000</td>\n",
       "      <td>4.898180e+09</td>\n",
       "    </tr>\n",
       "    <tr>\n",
       "      <th>40184</th>\n",
       "      <td>Iceland</td>\n",
       "      <td>2018</td>\n",
       "      <td>europe</td>\n",
       "      <td>338000</td>\n",
       "      <td>82.6</td>\n",
       "      <td>47400</td>\n",
       "      <td>27.8</td>\n",
       "      <td>16021200000</td>\n",
       "      <td>2.791880e+07</td>\n",
       "    </tr>\n",
       "    <tr>\n",
       "      <th>40169</th>\n",
       "      <td>France</td>\n",
       "      <td>2018</td>\n",
       "      <td>europe</td>\n",
       "      <td>65200000</td>\n",
       "      <td>82.6</td>\n",
       "      <td>39000</td>\n",
       "      <td>32.7</td>\n",
       "      <td>2542800000000</td>\n",
       "      <td>5.385520e+09</td>\n",
       "    </tr>\n",
       "    <tr>\n",
       "      <th>40233</th>\n",
       "      <td>Norway</td>\n",
       "      <td>2018</td>\n",
       "      <td>europe</td>\n",
       "      <td>5350000</td>\n",
       "      <td>82.4</td>\n",
       "      <td>64800</td>\n",
       "      <td>27.5</td>\n",
       "      <td>346680000000</td>\n",
       "      <td>4.408400e+08</td>\n",
       "    </tr>\n",
       "    <tr>\n",
       "      <th>40207</th>\n",
       "      <td>Luxembourg</td>\n",
       "      <td>2018</td>\n",
       "      <td>europe</td>\n",
       "      <td>590000</td>\n",
       "      <td>82.4</td>\n",
       "      <td>99000</td>\n",
       "      <td>33.8</td>\n",
       "      <td>58410000000</td>\n",
       "      <td>4.861600e+07</td>\n",
       "    </tr>\n",
       "  </tbody>\n",
       "</table>\n",
       "</div>"
      ],
      "text/plain": [
       "           country  year continent  population  life_exp  gdp_per_cap  gini  \\\n",
       "40193        Japan  2018      asia   127000000      84.2        39100  32.1   \n",
       "40255    Singapore  2018      asia     5790000      84.0        83900  40.9   \n",
       "40271  Switzerland  2018    europe     8540000      83.5        57100  32.3   \n",
       "40263        Spain  2018    europe    46400000      83.2        34700  36.2   \n",
       "40119    Australia  2018      asia    24800000      82.9        45800  32.3   \n",
       "40191        Italy  2018    europe    59300000      82.6        35200  35.4   \n",
       "40184      Iceland  2018    europe      338000      82.6        47400  27.8   \n",
       "40169       France  2018    europe    65200000      82.6        39000  32.7   \n",
       "40233       Norway  2018    europe     5350000      82.4        64800  27.5   \n",
       "40207   Luxembourg  2018    europe      590000      82.4        99000  33.8   \n",
       "\n",
       "           total_gdp  total_life_exp  \n",
       "40193  4965700000000    1.069340e+10  \n",
       "40255   485781000000    4.863600e+08  \n",
       "40271   487634000000    7.130900e+08  \n",
       "40263  1610080000000    3.860480e+09  \n",
       "40119  1135840000000    2.055920e+09  \n",
       "40191  2087360000000    4.898180e+09  \n",
       "40184    16021200000    2.791880e+07  \n",
       "40169  2542800000000    5.385520e+09  \n",
       "40233   346680000000    4.408400e+08  \n",
       "40207    58410000000    4.861600e+07  "
      ]
     },
     "execution_count": 28,
     "metadata": {},
     "output_type": "execute_result"
    }
   ],
   "source": [
    "df_2018.sort_values(by='life_exp', ascending=False).head(10)"
   ]
  },
  {
   "cell_type": "markdown",
   "metadata": {},
   "source": [
    "### Visualizing The Relationship Between Life Expectancy and Income Inequality"
   ]
  },
  {
   "cell_type": "code",
   "execution_count": 29,
   "metadata": {},
   "outputs": [
    {
     "data": {
      "image/png": "[encoded data removed]",
      "text/plain": [
       "<Figure size 576x432 with 1 Axes>"
      ]
     },
     "metadata": {
      "needs_background": "light"
     },
     "output_type": "display_data"
    }
   ],
   "source": [
    "continent_list = ['africa', 'americas', 'asia', 'europe']\n",
    "colors = ['steelblue', 'orange', 'limegreen', 'crimson']\n",
    "plt.figure(figsize = [8,6])\n",
    "for i, c in enumerate(continent_list):\n",
    "    plt.scatter(df_2018.loc[df_2018.continent == c,'gini'], \n",
    "                df_2018.loc[df_2018.continent == c,'life_exp'],\n",
    "                s=50, edgecolor='k', alpha=0.8, label=c.title(),\n",
    "                color=colors[i])\n",
    "\n",
    "plt.xlabel('Gini Index')\n",
    "plt.ylabel('Life Expectancy')\n",
    "plt.title('Life Expectancy and Income Inequality (2018)')   \n",
    "plt.legend()\n",
    "plt.show()"
   ]
  },
  {
   "cell_type": "markdown",
   "metadata": {},
   "source": [
    "It does appear as though there is some relationship between life expectancy and Gini index. Countries with lower levels of income inequality tend to also have a higher life expectancy."
   ]
  },
  {
   "cell_type": "markdown",
   "metadata": {},
   "source": [
    "#### Per Capita GDP, Total Polulation and Life Expectancy By Continent in 2018\n",
    "This will be done by finding the total population, total GDP, and population weighted life expectancy of each continent."
   ]
  },
  {
   "cell_type": "code",
   "execution_count": 30,
   "metadata": {},
   "outputs": [
    {
     "data": {
      "text/html": [
       "<div>\n",
       "<style scoped>\n",
       "    .dataframe tbody tr th:only-of-type {\n",
       "        vertical-align: middle;\n",
       "    }\n",
       "\n",
       "    .dataframe tbody tr th {\n",
       "        vertical-align: top;\n",
       "    }\n",
       "\n",
       "    .dataframe thead th {\n",
       "        text-align: right;\n",
       "    }\n",
       "</style>\n",
       "<table border=\"1\" class=\"dataframe\">\n",
       "  <thead>\n",
       "    <tr style=\"text-align: right;\">\n",
       "      <th></th>\n",
       "      <th>population</th>\n",
       "      <th>total_gdp</th>\n",
       "      <th>total_life_exp</th>\n",
       "    </tr>\n",
       "    <tr>\n",
       "      <th>continent</th>\n",
       "      <th></th>\n",
       "      <th></th>\n",
       "      <th></th>\n",
       "    </tr>\n",
       "  </thead>\n",
       "  <tbody>\n",
       "    <tr>\n",
       "      <th>africa</th>\n",
       "      <td>1287150200</td>\n",
       "      <td>6049509310000</td>\n",
       "      <td>8.477140e+10</td>\n",
       "    </tr>\n",
       "    <tr>\n",
       "      <th>americas</th>\n",
       "      <td>1010978000</td>\n",
       "      <td>29023263900000</td>\n",
       "      <td>7.840079e+10</td>\n",
       "    </tr>\n",
       "    <tr>\n",
       "      <th>asia</th>\n",
       "      <td>4455113000</td>\n",
       "      <td>56602608160000</td>\n",
       "      <td>3.261415e+11</td>\n",
       "    </tr>\n",
       "    <tr>\n",
       "      <th>europe</th>\n",
       "      <td>841959000</td>\n",
       "      <td>26550266400000</td>\n",
       "      <td>6.600596e+10</td>\n",
       "    </tr>\n",
       "  </tbody>\n",
       "</table>\n",
       "</div>"
      ],
      "text/plain": [
       "           population       total_gdp  total_life_exp\n",
       "continent                                            \n",
       "africa     1287150200   6049509310000    8.477140e+10\n",
       "americas   1010978000  29023263900000    7.840079e+10\n",
       "asia       4455113000  56602608160000    3.261415e+11\n",
       "europe      841959000  26550266400000    6.600596e+10"
      ]
     },
     "execution_count": 30,
     "metadata": {},
     "output_type": "execute_result"
    }
   ],
   "source": [
    "grouped = df_2018.loc[:,['continent','population',\n",
    "                         'total_gdp', 'total_life_exp']\n",
    "                     ].groupby('continent').sum()\n",
    "grouped"
   ]
  },
  {
   "cell_type": "markdown",
   "metadata": {},
   "source": [
    "### Logistic Regression\n",
    "In this section a logistic regression model to predict the label continent using the columns life_exp, gdp_per_cap, and gini as features. This will be achieved by creating a 2D feature array named X4 containing the relevant features, as well as a 1D label array named y4 containing the label"
   ]
  },
  {
   "cell_type": "code",
   "execution_count": 32,
   "metadata": {},
   "outputs": [],
   "source": [
    "gm18 = df.loc[df.year == 2018,:].reset_index(drop=True)"
   ]
  },
  {
   "cell_type": "code",
   "execution_count": 33,
   "metadata": {},
   "outputs": [],
   "source": [
    "X4 = gm18.iloc[:,4:].values\n",
    "y4 = gm18.iloc[:,2].values"
   ]
  },
  {
   "cell_type": "code",
   "execution_count": 34,
   "metadata": {},
   "outputs": [
    {
     "name": "stdout",
     "output_type": "stream",
     "text": [
      "Training Features Shape: (128, 3)\n",
      "Test Features Shape:     (56, 3)\n"
     ]
    }
   ],
   "source": [
    "# Using train_test_split() to split the data into training and testing sets with a split of 70/30 \n",
    "X_train_4, X_test_4, y_train_4, y_test_4 = train_test_split(X4, y4, test_size=0.3, random_state=1, stratify=y4)\n",
    "\n",
    "\n",
    "# print shape\n",
    "print('Training Features Shape:', X_train_4.shape)\n",
    "print('Test Features Shape:    ', X_test_4.shape)"
   ]
  },
  {
   "cell_type": "markdown",
   "metadata": {},
   "source": [
    "#### Creating a logistic regression model that can be used to estimate the probability that a country is in any particular continental region based on the feature values"
   ]
  },
  {
   "cell_type": "code",
   "execution_count": 35,
   "metadata": {},
   "outputs": [
    {
     "name": "stdout",
     "output_type": "stream",
     "text": [
      "Intercept:    [ 0.00206119 -0.00474721  0.00333324 -0.00064723]\n",
      "Coefficients: \n",
      " [[-8.83459472e-02 -1.02954896e-04  2.01025741e-01]\n",
      " [-8.62682980e-02  3.31656925e-05  1.59762530e-01]\n",
      " [ 1.93453912e-02  2.94716407e-05 -2.32824256e-02]\n",
      " [ 1.55268854e-01  4.03175628e-05 -3.37505846e-01]]\n"
     ]
    }
   ],
   "source": [
    "gm_mod = LogisticRegression(solver='lbfgs', penalty='none', multi_class='multinomial', max_iter = 300)\n",
    "gm_mod.fit(X_train_4, y_train_4)\n",
    "\n",
    "print('Intercept:   ',  gm_mod.intercept_)\n",
    "print(\"Coefficients: \\n\", gm_mod.coef_)"
   ]
  },
  {
   "cell_type": "markdown",
   "metadata": {},
   "source": [
    "Calculating the accuracy score for the model on both the training set and the test set."
   ]
  },
  {
   "cell_type": "code",
   "execution_count": 36,
   "metadata": {},
   "outputs": [
    {
     "name": "stdout",
     "output_type": "stream",
     "text": [
      "Training Accuracy:   0.625\n",
      "Testing Accuracy: 0.5893\n"
     ]
    }
   ],
   "source": [
    "gm_mod_train = gm_mod.score(X_train_4, y_train_4)\n",
    "gm_mod_test =  gm_mod.score(X_test_4, y_test_4)\n",
    "\n",
    "\n",
    "print('Training Accuracy:  ',round(gm_mod_train,4))\n",
    "print('Testing Accuracy:', round(gm_mod_test,4))"
   ]
  },
  {
   "cell_type": "markdown",
   "metadata": {},
   "source": [
    "Using the model to generate predictions the continental region of countries in the test set."
   ]
  },
  {
   "cell_type": "code",
   "execution_count": 37,
   "metadata": {},
   "outputs": [
    {
     "name": "stdout",
     "output_type": "stream",
     "text": [
      "Observed Labels:  ['americas' 'asia' 'asia' 'asia' 'africa' 'europe' 'asia' 'europe']\n",
      "Predicted Labels: ['asia' 'europe' 'africa' 'asia' 'europe' 'europe' 'africa' 'europe']\n"
     ]
    }
   ],
   "source": [
    "test_pred_4 = gm_mod.predict(X_test_4)\n",
    "\n",
    "\n",
    "print('Observed Labels: ', y_test_4[:8])\n",
    "print('Predicted Labels:', test_pred_4[:8])"
   ]
  },
  {
   "cell_type": "markdown",
   "metadata": {},
   "source": [
    "We will use our model to estimate the probability of countries in the test set being in each of the four continents based on their feature values."
   ]
  },
  {
   "cell_type": "code",
   "execution_count": 38,
   "metadata": {},
   "outputs": [
    {
     "data": {
      "text/html": [
       "<div>\n",
       "<style scoped>\n",
       "    .dataframe tbody tr th:only-of-type {\n",
       "        vertical-align: middle;\n",
       "    }\n",
       "\n",
       "    .dataframe tbody tr th {\n",
       "        vertical-align: top;\n",
       "    }\n",
       "\n",
       "    .dataframe thead th {\n",
       "        text-align: right;\n",
       "    }\n",
       "</style>\n",
       "<table border=\"1\" class=\"dataframe\">\n",
       "  <thead>\n",
       "    <tr style=\"text-align: right;\">\n",
       "      <th></th>\n",
       "      <th>africa</th>\n",
       "      <th>americas</th>\n",
       "      <th>asia</th>\n",
       "      <th>europe</th>\n",
       "    </tr>\n",
       "  </thead>\n",
       "  <tbody>\n",
       "    <tr>\n",
       "      <th>0</th>\n",
       "      <td>0.066303</td>\n",
       "      <td>0.258957</td>\n",
       "      <td>0.578821</td>\n",
       "      <td>0.095919</td>\n",
       "    </tr>\n",
       "    <tr>\n",
       "      <th>1</th>\n",
       "      <td>0.001106</td>\n",
       "      <td>0.043577</td>\n",
       "      <td>0.358086</td>\n",
       "      <td>0.597231</td>\n",
       "    </tr>\n",
       "    <tr>\n",
       "      <th>2</th>\n",
       "      <td>0.663193</td>\n",
       "      <td>0.210245</td>\n",
       "      <td>0.123090</td>\n",
       "      <td>0.003471</td>\n",
       "    </tr>\n",
       "    <tr>\n",
       "      <th>3</th>\n",
       "      <td>0.226951</td>\n",
       "      <td>0.261422</td>\n",
       "      <td>0.457112</td>\n",
       "      <td>0.054516</td>\n",
       "    </tr>\n",
       "    <tr>\n",
       "      <th>4</th>\n",
       "      <td>0.002027</td>\n",
       "      <td>0.004892</td>\n",
       "      <td>0.112216</td>\n",
       "      <td>0.880865</td>\n",
       "    </tr>\n",
       "    <tr>\n",
       "      <th>5</th>\n",
       "      <td>0.001844</td>\n",
       "      <td>0.023808</td>\n",
       "      <td>0.252206</td>\n",
       "      <td>0.722142</td>\n",
       "    </tr>\n",
       "    <tr>\n",
       "      <th>6</th>\n",
       "      <td>0.630642</td>\n",
       "      <td>0.218362</td>\n",
       "      <td>0.147071</td>\n",
       "      <td>0.003925</td>\n",
       "    </tr>\n",
       "    <tr>\n",
       "      <th>7</th>\n",
       "      <td>0.000027</td>\n",
       "      <td>0.000734</td>\n",
       "      <td>0.033116</td>\n",
       "      <td>0.966124</td>\n",
       "    </tr>\n",
       "    <tr>\n",
       "      <th>8</th>\n",
       "      <td>0.001237</td>\n",
       "      <td>0.010807</td>\n",
       "      <td>0.163282</td>\n",
       "      <td>0.824675</td>\n",
       "    </tr>\n",
       "    <tr>\n",
       "      <th>9</th>\n",
       "      <td>0.178203</td>\n",
       "      <td>0.117534</td>\n",
       "      <td>0.492549</td>\n",
       "      <td>0.211714</td>\n",
       "    </tr>\n",
       "  </tbody>\n",
       "</table>\n",
       "</div>"
      ],
      "text/plain": [
       "     africa  americas      asia    europe\n",
       "0  0.066303  0.258957  0.578821  0.095919\n",
       "1  0.001106  0.043577  0.358086  0.597231\n",
       "2  0.663193  0.210245  0.123090  0.003471\n",
       "3  0.226951  0.261422  0.457112  0.054516\n",
       "4  0.002027  0.004892  0.112216  0.880865\n",
       "5  0.001844  0.023808  0.252206  0.722142\n",
       "6  0.630642  0.218362  0.147071  0.003925\n",
       "7  0.000027  0.000734  0.033116  0.966124\n",
       "8  0.001237  0.010807  0.163282  0.824675\n",
       "9  0.178203  0.117534  0.492549  0.211714"
      ]
     },
     "execution_count": 38,
     "metadata": {},
     "output_type": "execute_result"
    }
   ],
   "source": [
    "gm_proba = gm_mod.predict_proba(X_test_4)\n",
    "\n",
    "gm_proba = pd.DataFrame(gm_proba, columns = ['africa', 'americas','asia','europe'])\n",
    "gm_proba[:10]"
   ]
  },
  {
   "cell_type": "markdown",
   "metadata": {},
   "source": [
    "Creating a new dataframe with fictitious features to test the model"
   ]
  },
  {
   "cell_type": "code",
   "execution_count": 39,
   "metadata": {},
   "outputs": [],
   "source": [
    "gm_new = pd.DataFrame([[75,5000,30],[75,5000,40],[75,5000,50],[75,20000,30],[75,20000,40],[75,20000,50]],\n",
    "                       columns = ['life_exp','gdp_per_cap','gini'])\n",
    "\n",
    "gm_new_proba = gm_mod.predict_proba(gm_new)"
   ]
  },
  {
   "cell_type": "code",
   "execution_count": 40,
   "metadata": {},
   "outputs": [
    {
     "data": {
      "text/html": [
       "<div>\n",
       "<style scoped>\n",
       "    .dataframe tbody tr th:only-of-type {\n",
       "        vertical-align: middle;\n",
       "    }\n",
       "\n",
       "    .dataframe tbody tr th {\n",
       "        vertical-align: top;\n",
       "    }\n",
       "\n",
       "    .dataframe thead th {\n",
       "        text-align: right;\n",
       "    }\n",
       "</style>\n",
       "<table border=\"1\" class=\"dataframe\">\n",
       "  <thead>\n",
       "    <tr style=\"text-align: right;\">\n",
       "      <th></th>\n",
       "      <th>africa</th>\n",
       "      <th>americas</th>\n",
       "      <th>asia</th>\n",
       "      <th>europe</th>\n",
       "    </tr>\n",
       "  </thead>\n",
       "  <tbody>\n",
       "    <tr>\n",
       "      <th>0</th>\n",
       "      <td>0.038371</td>\n",
       "      <td>0.025509</td>\n",
       "      <td>0.286667</td>\n",
       "      <td>0.649452</td>\n",
       "    </tr>\n",
       "    <tr>\n",
       "      <th>1</th>\n",
       "      <td>0.432807</td>\n",
       "      <td>0.190449</td>\n",
       "      <td>0.343168</td>\n",
       "      <td>0.033575</td>\n",
       "    </tr>\n",
       "    <tr>\n",
       "      <th>2</th>\n",
       "      <td>0.726868</td>\n",
       "      <td>0.211707</td>\n",
       "      <td>0.061166</td>\n",
       "      <td>0.000258</td>\n",
       "    </tr>\n",
       "    <tr>\n",
       "      <th>3</th>\n",
       "      <td>0.004860</td>\n",
       "      <td>0.024894</td>\n",
       "      <td>0.264677</td>\n",
       "      <td>0.705569</td>\n",
       "    </tr>\n",
       "    <tr>\n",
       "      <th>4</th>\n",
       "      <td>0.092292</td>\n",
       "      <td>0.312892</td>\n",
       "      <td>0.533408</td>\n",
       "      <td>0.061408</td>\n",
       "    </tr>\n",
       "    <tr>\n",
       "      <th>5</th>\n",
       "      <td>0.259037</td>\n",
       "      <td>0.581283</td>\n",
       "      <td>0.158891</td>\n",
       "      <td>0.000790</td>\n",
       "    </tr>\n",
       "  </tbody>\n",
       "</table>\n",
       "</div>"
      ],
      "text/plain": [
       "     africa  americas      asia    europe\n",
       "0  0.038371  0.025509  0.286667  0.649452\n",
       "1  0.432807  0.190449  0.343168  0.033575\n",
       "2  0.726868  0.211707  0.061166  0.000258\n",
       "3  0.004860  0.024894  0.264677  0.705569\n",
       "4  0.092292  0.312892  0.533408  0.061408\n",
       "5  0.259037  0.581283  0.158891  0.000790"
      ]
     },
     "execution_count": 40,
     "metadata": {},
     "output_type": "execute_result"
    }
   ],
   "source": [
    "gm_new_proba = pd.DataFrame(gm_new_proba, columns = ['africa', 'americas','asia','europe'])\n",
    "gm_new_proba[:10]"
   ]
  },
  {
   "cell_type": "markdown",
   "metadata": {},
   "source": [
    "According to our model:\n",
    "\n",
    "- Country 0 is most likely in europe.\n",
    "- Country 1 is most likely in africa.\n",
    "- Country 2 is most likely in africa.\n",
    "- Country 3 is most likely in europe.\n",
    "- Country 4 is most likely in asia.\n",
    "- Country 5 is most likely in americas."
   ]
  },
  {
   "cell_type": "code",
   "execution_count": null,
   "metadata": {},
   "outputs": [],
   "source": []
  }
 ],
 "metadata": {
  "kernelspec": {
   "display_name": "Python 3",
   "language": "python",
   "name": "python3"
  },
  "language_info": {
   "codemirror_mode": {
    "name": "ipython",
    "version": 3
   },
   "file_extension": ".py",
   "mimetype": "text/x-python",
   "name": "python",
   "nbconvert_exporter": "python",
   "pygments_lexer": "ipython3",
   "version": "3.7.1"
  }
 },
 "nbformat": 4,
 "nbformat_minor": 4
}
